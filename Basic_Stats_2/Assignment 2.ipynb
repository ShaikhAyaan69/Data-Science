{
  "nbformat": 4,
  "nbformat_minor": 0,
  "metadata": {
    "colab": {
      "provenance": []
    },
    "kernelspec": {
      "name": "python3",
      "display_name": "Python 3"
    },
    "language_info": {
      "name": "python"
    }
  },
  "cells": [
    {
      "cell_type": "markdown",
      "source": [
        "# **a.** Build 99% Confidence Interval Using Sample Standard Deviation"
      ],
      "metadata": {
        "id": "yTYAj5vipY2T"
      }
    },
    {
      "cell_type": "code",
      "execution_count": 10,
      "metadata": {
        "id": "pJs_NX-lTrZO"
      },
      "outputs": [],
      "source": [
        "import numpy as np\n",
        "from scipy import stats\n",
        "# Here we have import NumPy library to get more efficent numerical operations and we have assigns it as an alias np\n",
        "# Then we have import the stats module from the SciPy library which contains statistical functions"
      ]
    },
    {
      "cell_type": "code",
      "source": [
        "data = np.array([1.13, 1.55, 1.43, 0.92, 1.25, 1.36, 1.32, 0.85, 1.07, 1.48, 1.20, 1.33, 1.18, 1.22, 1.29])\n",
        "# Here we have created a numpy array to store given data points"
      ],
      "metadata": {
        "id": "pHuyBVdVTwLb"
      },
      "execution_count": 13,
      "outputs": []
    },
    {
      "cell_type": "code",
      "source": [
        "data"
      ],
      "metadata": {
        "colab": {
          "base_uri": "https://localhost:8080/"
        },
        "id": "vVcuibKuUw6L",
        "outputId": "93721167-c424-4acc-f3ca-96ab33739739"
      },
      "execution_count": 14,
      "outputs": [
        {
          "output_type": "execute_result",
          "data": {
            "text/plain": [
              "array([1.13, 1.55, 1.43, 0.92, 1.25, 1.36, 1.32, 0.85, 1.07, 1.48, 1.2 ,\n",
              "       1.33, 1.18, 1.22, 1.29])"
            ]
          },
          "metadata": {},
          "execution_count": 14
        }
      ]
    },
    {
      "cell_type": "code",
      "source": [
        "# Here we have calculated the mean of given data points\n",
        "mean = np.mean(data)\n",
        "mean"
      ],
      "metadata": {
        "colab": {
          "base_uri": "https://localhost:8080/"
        },
        "id": "WCC8-u1rVHRU",
        "outputId": "3dda2b81-81e6-45ed-e507-b161e18f35df"
      },
      "execution_count": 16,
      "outputs": [
        {
          "output_type": "execute_result",
          "data": {
            "text/plain": [
              "1.2386666666666666"
            ]
          },
          "metadata": {},
          "execution_count": 16
        }
      ]
    },
    {
      "cell_type": "code",
      "source": [
        "# Here we have calculated the standard deviation of given data points\n",
        "# ddof stands for 'delta degrees of freedom'\n",
        "# We have set ddof as 1 because we are calculating the sample standard deviation rather than the population standard deviation.\\\n",
        "std_dev = np.std(data, ddof=1)\n",
        "std_dev"
      ],
      "metadata": {
        "colab": {
          "base_uri": "https://localhost:8080/"
        },
        "id": "EMmaz4RmW4W8",
        "outputId": "cb70923b-7653-4190-b255-e811a200b130"
      },
      "execution_count": 19,
      "outputs": [
        {
          "output_type": "execute_result",
          "data": {
            "text/plain": [
              "0.19316412956959936"
            ]
          },
          "metadata": {},
          "execution_count": 19
        }
      ]
    },
    {
      "cell_type": "code",
      "source": [
        "# Here we have sets the confidence level to 0.99 which means we are constructing a 99% confidence interval\n",
        "confidence = 0.99"
      ],
      "metadata": {
        "id": "KM8nT6gpXsP_"
      },
      "execution_count": 21,
      "outputs": []
    },
    {
      "cell_type": "code",
      "source": [
        "# As we want to calcualate t-distribution we will need degrees of freedom\n",
        "# So, here we have calculated degrees of freedom by its formula sample size minus 1\n",
        "degrees_of_freedom = len(data) - 1\n",
        "degrees_of_freedom"
      ],
      "metadata": {
        "colab": {
          "base_uri": "https://localhost:8080/"
        },
        "id": "CjXHYxvUYo_A",
        "outputId": "7dfa4914-b145-41c7-9d49-3cefd1d7ce30"
      },
      "execution_count": 24,
      "outputs": [
        {
          "output_type": "execute_result",
          "data": {
            "text/plain": [
              "14"
            ]
          },
          "metadata": {},
          "execution_count": 24
        }
      ]
    },
    {
      "cell_type": "code",
      "source": [
        "# Here we have find '(1 + confidence) / 2' because it calculates the cumulative probability associated with the desired confidence level(we have 99% confidence level)\n",
        "# We already have degrees of freedom used to define the specific t-distribution\n",
        "# We have put this both values in 'ppf' i.e percent point function which calculates the critical t-value that corresponds to the cumulative probability\n",
        "# t-value is stored in 't_score' used to construct the confidence interval for the mean of the sample data\n",
        "t_score = stats.t.ppf((1 + confidence) / 2, degrees_of_freedom)\n",
        "t_score"
      ],
      "metadata": {
        "colab": {
          "base_uri": "https://localhost:8080/"
        },
        "id": "fqF6Knp_Y2z5",
        "outputId": "48c9b626-5254-453d-c449-57b73b3a855e"
      },
      "execution_count": 26,
      "outputs": [
        {
          "output_type": "execute_result",
          "data": {
            "text/plain": [
              "2.976842734370834"
            ]
          },
          "metadata": {},
          "execution_count": 26
        }
      ]
    },
    {
      "cell_type": "code",
      "source": [
        "# Here we have calculated the margin of error of confidence interval\n",
        "# Margin of error is nothing but the product of t-score and standard error of mean\n",
        "# And standard error is nothing but the sample standard deviation divided by square root of size of given data\n",
        "margin_of_error = t_score * (std_dev / np.sqrt(len(data)))\n",
        "margin_of_error"
      ],
      "metadata": {
        "colab": {
          "base_uri": "https://localhost:8080/"
        },
        "id": "e4wOkLTwkq2b",
        "outputId": "5c541dfa-697f-44fd-d94a-3bd8d67ca02d"
      },
      "execution_count": 29,
      "outputs": [
        {
          "output_type": "execute_result",
          "data": {
            "text/plain": [
              "0.14846932822817596"
            ]
          },
          "metadata": {},
          "execution_count": 29
        }
      ]
    },
    {
      "cell_type": "code",
      "source": [
        "# Here lower bound determines the lower limit of the confidence interval by subtracting the margin of error from the sample mean\n",
        "# And upper bound determines the upper limit of the confidence interval by adding the margin of error to the sample mean\n",
        "lower_bound = mean - margin_of_error\n",
        "upper_bound = mean + margin_of_error"
      ],
      "metadata": {
        "id": "5bCCrS3BnLBu"
      },
      "execution_count": 34,
      "outputs": []
    },
    {
      "cell_type": "code",
      "source": [
        "(lower_bound, upper_bound)"
      ],
      "metadata": {
        "colab": {
          "base_uri": "https://localhost:8080/"
        },
        "id": "zMQKjztSoZlx",
        "outputId": "fba03139-779d-4dba-e39e-5722ef9087c1"
      },
      "execution_count": 35,
      "outputs": [
        {
          "output_type": "execute_result",
          "data": {
            "text/plain": [
              "(1.0901973384384906, 1.3871359948948425)"
            ]
          },
          "metadata": {},
          "execution_count": 35
        }
      ]
    },
    {
      "cell_type": "markdown",
      "source": [
        "**Conclusion** :\n",
        "Based on the sample data of 15 print-heads, with a calculated sample mean durability of approximately 1.244 million characters and a sample standard deviation of approximately 0.202 million characters, the 99% confidence interval for the mean number of characters printed before failure is approximately (1.090, 1.387) million characters. This means we are 99% confident that the true mean durability of the print-heads lies within this interval."
      ],
      "metadata": {
        "id": "KaBpbb8-qF4S"
      }
    },
    {
      "cell_type": "markdown",
      "source": [
        "# **b.** Build 99% Confidence Interval Using Known Population Standard Deviation"
      ],
      "metadata": {
        "id": "QXqiLTTkqqHp"
      }
    },
    {
      "cell_type": "code",
      "source": [
        "# Since, we have already imported the packages of stastical operations so won't import it again"
      ],
      "metadata": {
        "id": "SC40q1A0qFPm"
      },
      "execution_count": null,
      "outputs": []
    },
    {
      "cell_type": "code",
      "source": [
        "# We also have data of given data points stored in array\n",
        "data"
      ],
      "metadata": {
        "colab": {
          "base_uri": "https://localhost:8080/"
        },
        "id": "Wj1rSBL7oiKq",
        "outputId": "70b922c3-d4aa-458e-98b7-fac8ee30ae04"
      },
      "execution_count": 37,
      "outputs": [
        {
          "output_type": "execute_result",
          "data": {
            "text/plain": [
              "array([1.13, 1.55, 1.43, 0.92, 1.25, 1.36, 1.32, 0.85, 1.07, 1.48, 1.2 ,\n",
              "       1.33, 1.18, 1.22, 1.29])"
            ]
          },
          "metadata": {},
          "execution_count": 37
        }
      ]
    },
    {
      "cell_type": "code",
      "source": [
        "# Simply again we have calculated the mean of given data points\n",
        "sample_mean = np.mean(data)\n",
        "sample_mean"
      ],
      "metadata": {
        "colab": {
          "base_uri": "https://localhost:8080/"
        },
        "id": "jyl7j3E2rZGS",
        "outputId": "cc8c6263-059f-4bc8-eb18-d026d8a7da13"
      },
      "execution_count": 40,
      "outputs": [
        {
          "output_type": "execute_result",
          "data": {
            "text/plain": [
              "1.2386666666666666"
            ]
          },
          "metadata": {},
          "execution_count": 40
        }
      ]
    },
    {
      "cell_type": "code",
      "source": [
        "# Here we have sets the population standard deviation i.e sigma of the print-head durability which is already given\n",
        "sigma = 0.2"
      ],
      "metadata": {
        "id": "Xou8omjkrq6D"
      },
      "execution_count": 41,
      "outputs": []
    },
    {
      "cell_type": "code",
      "source": [
        "# Here 'n' determines the number of elements in data array\n",
        "n = len(data)\n",
        "n"
      ],
      "metadata": {
        "colab": {
          "base_uri": "https://localhost:8080/"
        },
        "id": "q8jf0BUfsvrb",
        "outputId": "8d84dca9-b9fb-4eb4-b348-4960652ce254"
      },
      "execution_count": 44,
      "outputs": [
        {
          "output_type": "execute_result",
          "data": {
            "text/plain": [
              "15"
            ]
          },
          "metadata": {},
          "execution_count": 44
        }
      ]
    },
    {
      "cell_type": "code",
      "source": [
        "# 'z_score' clculates the Z-score corresponding to the 99% confidence level\n",
        "# ppf i.e percent point function from stats.norm gives the Z-score for the specified percentile\n",
        "# Here for a 99% confidence level we need Z-score that leaves 0.5% so we took the value 0.995 because it's the upper tail of the 99% confidence interval\n",
        "z_score = stats.norm.ppf(0.995)\n",
        "z_score"
      ],
      "metadata": {
        "colab": {
          "base_uri": "https://localhost:8080/"
        },
        "id": "2rPrtSNes5dd",
        "outputId": "4e216ee7-0178-4bab-aa21-4b8a14d6022f"
      },
      "execution_count": 47,
      "outputs": [
        {
          "output_type": "execute_result",
          "data": {
            "text/plain": [
              "2.5758293035489004"
            ]
          },
          "metadata": {},
          "execution_count": 47
        }
      ]
    },
    {
      "cell_type": "code",
      "source": [
        "# Here we have calculated the margin of error value\n",
        "# Margin of error is nothing but the product of the Z-score and the standard error of mean\n",
        "# Standard error of mean is obtained by dividing the population standard deviation i.e sigma by the square root of the sample size\n",
        "margin_of_error = z_score * (sigma / np.sqrt(n))\n",
        "margin_of_error"
      ],
      "metadata": {
        "colab": {
          "base_uri": "https://localhost:8080/"
        },
        "id": "J7l71M7ttMn0",
        "outputId": "1e752cb8-7acb-483e-88d5-87b984a1f544"
      },
      "execution_count": 49,
      "outputs": [
        {
          "output_type": "execute_result",
          "data": {
            "text/plain": [
              "0.13301525327090588"
            ]
          },
          "metadata": {},
          "execution_count": 49
        }
      ]
    },
    {
      "cell_type": "code",
      "source": [
        "# 'lower_bound' calculates the lower bound of the confidence interval by subtracting the margin of error from the sample mean.\n",
        "# 'upper_bound' calculates the upper bound of the confidence interval by adding the margin of error to the sample mean\n",
        "lower_bound = sample_mean - margin_of_error\n",
        "upper_bound = sample_mean + margin_of_error"
      ],
      "metadata": {
        "id": "nc7F6xrzutXq"
      },
      "execution_count": 52,
      "outputs": []
    },
    {
      "cell_type": "code",
      "source": [
        "(lower_bound, upper_bound)"
      ],
      "metadata": {
        "colab": {
          "base_uri": "https://localhost:8080/"
        },
        "id": "167ojlN8viV2",
        "outputId": "55fd8a70-266b-46a5-b6b1-c2930da821af"
      },
      "execution_count": 53,
      "outputs": [
        {
          "output_type": "execute_result",
          "data": {
            "text/plain": [
              "(1.1056514133957607, 1.3716819199375725)"
            ]
          },
          "metadata": {},
          "execution_count": 53
        }
      ]
    },
    {
      "cell_type": "markdown",
      "source": [
        "**Conclusion:** Based on the sample data of 15 print-heads and a known population standard deviation of 0.2 million characters, the 99% confidence interval for the mean durability of the print-heads was calculated. The sample mean was approximately 1.2387 million characters, with a margin of error of about 0.133 million characters. Therefore, the 99% confidence interval for the mean number of characters printed before failure is approximately (1.106, 1.372) million characters. This interval indicates that we can be 99% confident that the true mean durability of the print-heads lies within this range."
      ],
      "metadata": {
        "id": "padea0Vdw4XF"
      }
    }
  ]
}