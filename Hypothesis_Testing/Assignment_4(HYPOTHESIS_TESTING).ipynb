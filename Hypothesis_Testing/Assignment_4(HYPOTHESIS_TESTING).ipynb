{
  "nbformat": 4,
  "nbformat_minor": 0,
  "metadata": {
    "colab": {
      "provenance": []
    },
    "kernelspec": {
      "name": "python3",
      "display_name": "Python 3"
    },
    "language_info": {
      "name": "python"
    }
  },
  "cells": [
    {
      "cell_type": "code",
      "source": [
        "import numpy as np     # Here we have imported 'numpy' for numerical computations\n",
        "from scipy.stats import norm    # Here we have imported 'norm' class from 'scipy.stats' module\n",
        "#  'norm'  class deals with the normal distribution allows to compute probabilities and other properties related to the normal distribution"
      ],
      "metadata": {
        "id": "Pu8YNlmW-Nfx"
      },
      "execution_count": 19,
      "outputs": []
    },
    {
      "cell_type": "markdown",
      "source": [
        "i. State the Hypotheses statement"
      ],
      "metadata": {
        "id": "Ezllz64-cyLO"
      }
    },
    {
      "cell_type": "code",
      "source": [
        "# Here we have defined two hypotheses i.e 'H0' and 'H1\"\n",
        "\n",
        "'''\n",
        "H0: The mean weekly cost for the restaurants is equal to the theoretical mean cost.\n",
        "H0: mu = 4000\n",
        "\n",
        "H1: The mean weekly cost for the restaurants is less than the theoretical mean cost.\n",
        "H1: mu < 4000\n",
        "'''"
      ],
      "metadata": {
        "id": "zB5t2vtDcvC7"
      },
      "execution_count": null,
      "outputs": []
    },
    {
      "cell_type": "code",
      "source": [
        "# Here we have assigned given data\n",
        "\n",
        "X_mean = 3050  # i.e sample mean of weekly cost\n",
        "\n",
        "n = 25  # i.e sample size which is nothing but number of restaurants\n",
        "\n",
        "sigma = 5 * 25  # i.e standard deviation of the sample\n",
        "\n",
        "mu = 1000 + 5 * 600  # i.e theoretical mean of weekly cost according to cost model"
      ],
      "metadata": {
        "id": "IyiwfMqdRb0v"
      },
      "execution_count": 21,
      "outputs": []
    },
    {
      "cell_type": "markdown",
      "source": [
        "ii. Calculate the Test Statistic"
      ],
      "metadata": {
        "id": "djnKsCmLT85g"
      }
    },
    {
      "cell_type": "code",
      "source": [
        "# Here we have calculated the test statistic\n",
        "# Test statitic is measure of how much sample mean deviates from theoretical mean in terms of standards errors\n",
        "\n",
        "t = (X_mean - mu) / (sigma / np.sqrt(n))\n",
        "# 'sigma / np.sqrt(n)'  This is standard error of the mean calculated by dividing the standard deviation i.e sigma by the square root of the sample size (np.sqrt(n))\n",
        "\n",
        "print('Test Statistic (t):', t)"
      ],
      "metadata": {
        "colab": {
          "base_uri": "https://localhost:8080/"
        },
        "id": "U3i1hZSCT8bF",
        "outputId": "0036e9f7-0633-4157-fd75-6b665cd3bad4"
      },
      "execution_count": 22,
      "outputs": [
        {
          "output_type": "stream",
          "name": "stdout",
          "text": [
            "Test Statistic (t): -38.0\n"
          ]
        }
      ]
    },
    {
      "cell_type": "markdown",
      "source": [
        "iii. Determine the Critical Value:"
      ],
      "metadata": {
        "id": "IbJOwWWfYPVH"
      }
    },
    {
      "cell_type": "code",
      "source": [
        "# Here we determined the critical value at 'alpha' = 0.05\n",
        "\n",
        "alpha = 0.05    # Here we have set significance level i.e 'alpha' for the hypothesis test which is the probability of rejecting the null hypothesis when it is actually true\n",
        "\n",
        "# Percent Point Function i.e 'ppf' is inverse of Cumulative Distribution Function(CDF) from 'norm' class is used here\n",
        "# Which determines the value of the test statistic that corresponds to 'alpha'\n",
        "\n",
        "critical_value = norm.ppf(1 - alpha)    # This calculates the critical value for the test\n",
        "\n",
        "print('Critical Value:', critical_value)"
      ],
      "metadata": {
        "colab": {
          "base_uri": "https://localhost:8080/"
        },
        "id": "qVubXQNOXDk0",
        "outputId": "70c1dcf3-16f8-4c64-c531-60ee5061b055"
      },
      "execution_count": 23,
      "outputs": [
        {
          "output_type": "stream",
          "name": "stdout",
          "text": [
            "Critical Value: 1.6448536269514722\n"
          ]
        }
      ]
    },
    {
      "cell_type": "markdown",
      "source": [
        "iv. Make a Decision"
      ],
      "metadata": {
        "id": "PmJn-pnma8xT"
      }
    },
    {
      "cell_type": "code",
      "source": [
        "# Here we compared test statistic with critical value to make a decision\n",
        "\n",
        "'''\n",
        "If t is greater than the critical value then it suggests that the sample mean is significantly different from the theoretical mean.\n",
        "Then null hypothesis (H₀) should be rejected.\n",
        "\n",
        "If t is smaller than the critical value then it suggests that the sample mean is not different from the theoretical mean.\n",
        "Then null hypothesis (H₀) should not be rejected.\n",
        "'''\n",
        "\n",
        "if t > critical_value:\n",
        "    print(\"Reject the null hypothesis (H₀): The restaurant owners' claim is supported.\")\n",
        "else:\n",
        "    print(\"Fail to reject the null hypothesis (H₀): There is not enough evidence to support the restaurant owners' claim.\")"
      ],
      "metadata": {
        "colab": {
          "base_uri": "https://localhost:8080/"
        },
        "id": "HCo3lCK7a36i",
        "outputId": "1097aaea-6194-47ec-d7b3-2fbc23a5a17e"
      },
      "execution_count": 24,
      "outputs": [
        {
          "output_type": "stream",
          "name": "stdout",
          "text": [
            "Fail to reject the null hypothesis (H₀): There is not enough evidence to support the restaurant owners' claim.\n"
          ]
        }
      ]
    },
    {
      "cell_type": "markdown",
      "source": [
        "**Conclusion:**   Based on the hypothesis test conducted, the calculated test statistic was compared to the critical value at a 5% significance level. The analysis showed that the test statistic did not fall into the rejection region, meaning it was not sufficiently extreme to reject the null hypothesis. Therefore, we fail to reject the null hypothesis (H0) concluding that there is not enough statistical evidence to support the restaurant owners' claim that the true mean weekly cost is lower than the theoretical mean predicted by the cost model."
      ],
      "metadata": {
        "id": "a1uq298GeNHi"
      }
    }
  ]
}