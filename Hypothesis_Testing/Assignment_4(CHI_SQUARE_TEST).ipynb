{
  "nbformat": 4,
  "nbformat_minor": 0,
  "metadata": {
    "colab": {
      "provenance": []
    },
    "kernelspec": {
      "name": "python3",
      "display_name": "Python 3"
    },
    "language_info": {
      "name": "python"
    }
  },
  "cells": [
    {
      "cell_type": "markdown",
      "source": [
        "# **CHI-SQUARE TEST**"
      ],
      "metadata": {
        "id": "Wg-xG15Q6JM_"
      }
    },
    {
      "cell_type": "code",
      "source": [
        "import numpy as np    # Here we have imported 'numpy' for numerical computations\n",
        "import scipy.stats as stats   # We also imported 'scipy.stats' as stats for stastical analysis for calculating values of chi-square distribution"
      ],
      "metadata": {
        "id": "k5YTYb99l0Pt"
      },
      "execution_count": null,
      "outputs": []
    },
    {
      "cell_type": "markdown",
      "source": [
        "i. State the Hypotheses"
      ],
      "metadata": {
        "id": "70fPpo97nEIy"
      }
    },
    {
      "cell_type": "code",
      "source": [
        "# Here we have defined two hypotheses i.e 'H0' and 'H1\"\n",
        "H0 = \"There is no significant association between the type of smart home device purchased and customer satisfaction levels\"\n",
        "H1 = \"There is a significant association between the type of smart home device purchased and customer satisfaction levels\"\n",
        "\n",
        "# Here we have printed the hypotheses to make is clear what is being tested\n",
        "print(\"Null Hypothesis (H0):\", H0)\n",
        "print(\"Alternative Hypothesis (H1):\", H1)"
      ],
      "metadata": {
        "colab": {
          "base_uri": "https://localhost:8080/"
        },
        "id": "D8iFeK5eqhoS",
        "outputId": "7699d901-89d3-458d-d0c6-93f9881232ef"
      },
      "execution_count": null,
      "outputs": [
        {
          "output_type": "stream",
          "name": "stdout",
          "text": [
            "Null Hypothesis (H0): There is no significant association between the type of smart home device purchased and customer satisfaction levels\n",
            "Alternative Hypothesis (H1): There is a significant association between the type of smart home device purchased and customer satisfaction levels\n"
          ]
        }
      ]
    },
    {
      "cell_type": "markdown",
      "source": [
        "ii. Compute the Chi-Square Statistics"
      ],
      "metadata": {
        "id": "dJJlLyKSSwfg"
      }
    },
    {
      "cell_type": "code",
      "source": [
        "# From the provided data we have contigency table showing the counts of customer in each satisfaction level for both type of devices\n",
        "# Contingency Table i.e observed frequencies\n",
        "# Here we have created 2D numpy array i.e 'observed' which contains the counts of occurrences for different combinations of device types and satisfaction levels\n",
        "observed = np.array([[50, 70],\n",
        "                     [80, 100],\n",
        "                     [60, 90],\n",
        "                     [30, 50],\n",
        "                     [20, 50]])\n",
        "observed"
      ],
      "metadata": {
        "id": "z28urzgon8gY",
        "colab": {
          "base_uri": "https://localhost:8080/"
        },
        "outputId": "1fd85bc4-a24e-4016-e3fb-db7825f408f8"
      },
      "execution_count": null,
      "outputs": [
        {
          "output_type": "execute_result",
          "data": {
            "text/plain": [
              "array([[ 50,  70],\n",
              "       [ 80, 100],\n",
              "       [ 60,  90],\n",
              "       [ 30,  50],\n",
              "       [ 20,  50]])"
            ]
          },
          "metadata": {},
          "execution_count": 7
        }
      ]
    },
    {
      "cell_type": "code",
      "source": [
        "# Here we have calculated the sum of rows and columns\n",
        "\n",
        "#  Here 'row_totals' sums the observed frequencies across each row and reshapes array to have one column and as many rows as needed\n",
        "row_totals = observed.sum(axis=1).reshape(-1, 1)\n",
        "\n",
        "# Here 'col_totals' sums the observed frequencies across each column and the result of this operation is a 1D numpy array containing the sums of each column\n",
        "col_totals = observed.sum(axis=0)\n",
        "\n",
        "#  Here 'grand_total' is the sum of all observed frequencies giving the overall total count\n",
        "grand_total = observed.sum()"
      ],
      "metadata": {
        "id": "gUNnS5nuJ52F"
      },
      "execution_count": null,
      "outputs": []
    },
    {
      "cell_type": "code",
      "source": [
        "row_totals"
      ],
      "metadata": {
        "colab": {
          "base_uri": "https://localhost:8080/"
        },
        "id": "vtv-g902K2rO",
        "outputId": "30b8446f-f3cb-4da5-9e1c-b3c56a3529cc"
      },
      "execution_count": null,
      "outputs": [
        {
          "output_type": "execute_result",
          "data": {
            "text/plain": [
              "array([[120],\n",
              "       [180],\n",
              "       [150],\n",
              "       [ 80],\n",
              "       [ 70]])"
            ]
          },
          "metadata": {},
          "execution_count": 9
        }
      ]
    },
    {
      "cell_type": "code",
      "source": [
        "col_totals"
      ],
      "metadata": {
        "colab": {
          "base_uri": "https://localhost:8080/"
        },
        "id": "zkmuSuXOMcGo",
        "outputId": "121c39b5-5e1d-499c-d2b0-0f3c3cb0dc22"
      },
      "execution_count": null,
      "outputs": [
        {
          "output_type": "execute_result",
          "data": {
            "text/plain": [
              "array([240, 360])"
            ]
          },
          "metadata": {},
          "execution_count": 10
        }
      ]
    },
    {
      "cell_type": "code",
      "source": [
        "grand_total"
      ],
      "metadata": {
        "colab": {
          "base_uri": "https://localhost:8080/"
        },
        "id": "WuusXnyYMdbn",
        "outputId": "8f573e08-30a0-4645-a391-6fcc0fb2ad63"
      },
      "execution_count": null,
      "outputs": [
        {
          "output_type": "execute_result",
          "data": {
            "text/plain": [
              "600"
            ]
          },
          "metadata": {},
          "execution_count": 11
        }
      ]
    },
    {
      "cell_type": "code",
      "source": [
        "# Here we calculated the expected frequencies in 'expected'\n",
        "# '@' is matrix multiplication operator\n",
        "#  'col_totals.reshape(1, -1)'   reshapes col_totals into a row vector i.e 2D numpy array with shape (1, 2)\n",
        "expected = (row_totals @ col_totals.reshape(1, -1)) / grand_total\n",
        "expected"
      ],
      "metadata": {
        "colab": {
          "base_uri": "https://localhost:8080/"
        },
        "id": "_CGt0ixIMeqG",
        "outputId": "7ad063be-baca-4266-d156-b01e808105fa"
      },
      "execution_count": null,
      "outputs": [
        {
          "output_type": "execute_result",
          "data": {
            "text/plain": [
              "array([[ 48.,  72.],\n",
              "       [ 72., 108.],\n",
              "       [ 60.,  90.],\n",
              "       [ 32.,  48.],\n",
              "       [ 28.,  42.]])"
            ]
          },
          "metadata": {},
          "execution_count": 12
        }
      ]
    },
    {
      "cell_type": "code",
      "source": [
        "# Here we have printed both 'Observed Frequencies' and 'Expected Frequencies'\n",
        "# It allows a comparison between what was observed and what would be expected if the null hypothesis were true\n",
        "print(\"Observed Frequencies:\\n\", observed)\n",
        "print(\"\\nExpected Frequencies:\\n\", expected)"
      ],
      "metadata": {
        "colab": {
          "base_uri": "https://localhost:8080/"
        },
        "id": "lJjOBhuwO_KB",
        "outputId": "e2b9dddf-6a43-4a3a-9683-43cf5d336e2b"
      },
      "execution_count": null,
      "outputs": [
        {
          "output_type": "stream",
          "name": "stdout",
          "text": [
            "Observed Frequencies:\n",
            " [[ 50  70]\n",
            " [ 80 100]\n",
            " [ 60  90]\n",
            " [ 30  50]\n",
            " [ 20  50]]\n",
            "\n",
            "Expected Frequencies:\n",
            " [[ 48.  72.]\n",
            " [ 72. 108.]\n",
            " [ 60.  90.]\n",
            " [ 32.  48.]\n",
            " [ 28.  42.]]\n"
          ]
        }
      ]
    },
    {
      "cell_type": "code",
      "source": [
        "# Here we have calculated the Chi-Square Statistic\n",
        "# It computes the chi-square statistic by summing the squared differences between observed and expected frequencies and divided by the expected frequencies\n",
        "# We have stored it in 'chi_square_stat'\n",
        "chi_square_stat = ((observed - expected) ** 2 / expected).sum()\n",
        "print(\"Chi-Square Statistic:\", chi_square_stat)"
      ],
      "metadata": {
        "colab": {
          "base_uri": "https://localhost:8080/"
        },
        "id": "5uSkquTvRYVQ",
        "outputId": "a3841d71-18eb-4c46-ef75-18c09a575cca"
      },
      "execution_count": null,
      "outputs": [
        {
          "output_type": "stream",
          "name": "stdout",
          "text": [
            "Chi-Square Statistic: 5.638227513227513\n"
          ]
        }
      ]
    },
    {
      "cell_type": "markdown",
      "source": [
        "iii. Determine the Critical Value"
      ],
      "metadata": {
        "id": "Dfdhz6C3VlYc"
      }
    },
    {
      "cell_type": "code",
      "source": [
        "# Here we have calculated the degrees of freedom\n",
        "# The degrees of freedom i.e 'df' for the chi-square test are calculated as (number of rows - 1) * (number of columns - 1)\n",
        "# Here this determines the shape of the chi-square distribution used in hypothesis testing\n",
        "df = (observed.shape[0] - 1) * (observed.shape[1] - 1)\n",
        "df"
      ],
      "metadata": {
        "colab": {
          "base_uri": "https://localhost:8080/"
        },
        "id": "3ayaSnY1TBPF",
        "outputId": "9c62b11b-ca7d-431c-f464-bc15571b9e04"
      },
      "execution_count": null,
      "outputs": [
        {
          "output_type": "execute_result",
          "data": {
            "text/plain": [
              "4"
            ]
          },
          "metadata": {},
          "execution_count": 15
        }
      ]
    },
    {
      "cell_type": "code",
      "source": [
        "# Here we have taken the significance level i.e 'alpha' as '0.05'\n",
        "# We have set alpha to 0.05 which means that there is a 5% chance of rejecting null hypothesis when it is actually true\n",
        "alpha = 0.05"
      ],
      "metadata": {
        "id": "3k1xfDB3VNn0"
      },
      "execution_count": null,
      "outputs": []
    },
    {
      "cell_type": "code",
      "source": [
        "# Here we have calculated critical value from Chi-Square distribution\n",
        "# Here  'stats.chi2'   refers to Chi-Square distribution provided by 'scipy.stats' module\n",
        "# Percent Point Function i.e (ppf) is nothing but it is inverse of Cumulative Distribution Function(CDF)\n",
        "\n",
        "critical_value = stats.chi2.ppf(1 - alpha, df)\n",
        "print(\"Degrees of Freedom:\", df)\n",
        "print(\"\\nCritical Value at alpha=0.05: \", critical_value)"
      ],
      "metadata": {
        "colab": {
          "base_uri": "https://localhost:8080/"
        },
        "id": "3nJKx6S4wMJm",
        "outputId": "f637e001-5663-4186-b61a-bf6da6e9d9fe"
      },
      "execution_count": null,
      "outputs": [
        {
          "output_type": "stream",
          "name": "stdout",
          "text": [
            "Degrees of Freedom: 4\n",
            "\n",
            "Critical Value at alpha=0.05:  9.487729036781154\n"
          ]
        }
      ]
    },
    {
      "cell_type": "markdown",
      "source": [
        "iv. Make a Decision"
      ],
      "metadata": {
        "id": "l1qr80D-yuQp"
      }
    },
    {
      "cell_type": "code",
      "source": [
        "# Here we have applied a decision rule by comparing 'chi_square_stat' with 'critical_value'\n",
        "\n",
        "'''\n",
        "If 'chi_square_stat' is greater than 'critical_value' then it indicates that the observed data is different from the expected data\n",
        "under the null hypothesis which leads to rejection of H0.\n",
        "In this case the conclusion is that there is a significant association.\n",
        "\n",
        "If 'chi_square_stat' is not greater than 'critical_value' it suggests that any difference between observed and expected data is not statistically significant\n",
        "hence H0 is not rejected.\n",
        "In this case the conclusion is that there is no significant association.\n",
        "'''\n",
        "\n",
        "if chi_square_stat > critical_value:\n",
        "    print(\"Decision: Reject the Null Hypothesis (H0)\")\n",
        "    print(\"\\nThere is a significant association between the type of smart home device purchased and customer satisfaction levels.\")\n",
        "else:\n",
        "    print(\"\\nDecision: Do not reject the Null Hypothesis (H0)\")\n",
        "    print(\"\\nThere is no significant association between the type of smart home device purchased and customer satisfaction levels.\")"
      ],
      "metadata": {
        "colab": {
          "base_uri": "https://localhost:8080/"
        },
        "id": "2LqhgFBTycxz",
        "outputId": "7878b87d-2194-4165-e4f2-def9900dd4ee"
      },
      "execution_count": null,
      "outputs": [
        {
          "output_type": "stream",
          "name": "stdout",
          "text": [
            "\n",
            "Decision: Do not reject the Null Hypothesis (H0)\n",
            "\n",
            "There is no significant association between the type of smart home device purchased and customer satisfaction levels.\n"
          ]
        }
      ]
    },
    {
      "cell_type": "markdown",
      "source": [
        "**Conclusion**:\n",
        "The analysis using the Chi-Square test resulted in a decision to not reject the null hypothesis (H0). This means that the statistical evidence does not support a significant association between the type of smart home device purchased and customer satisfaction levels. In other words, customer satisfaction appears to be independent of the type of smart home device they buy. Therefore, variations in satisfaction levels are likely due to other factors not related to the type of device purchased, and the observed differences in satisfaction across device types can be attributed to random chance."
      ],
      "metadata": {
        "id": "Tzpseita3GwA"
      }
    }
  ]
}