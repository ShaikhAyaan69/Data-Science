{
  "nbformat": 4,
  "nbformat_minor": 0,
  "metadata": {
    "colab": {
      "provenance": []
    },
    "kernelspec": {
      "name": "python3",
      "display_name": "Python 3"
    },
    "language_info": {
      "name": "python"
    }
  },
  "cells": [
    {
      "cell_type": "markdown",
      "source": [
        "# **Problem 1: Prime Numbers**"
      ],
      "metadata": {
        "id": "9imIZN7SVS2C"
      }
    },
    {
      "cell_type": "code",
      "source": [
        "# This defines a function named 'prime' that takes one parameter i.e 'number'\n",
        "def prime(number):\n",
        "\n",
        "# Prime numbers are greater than 1\n",
        "\n",
        "    if number <= 1:   # This checks if the number is less than or equal to 1\n",
        "        return False  # If the number is less than or equal to 1 then it is not a prime number so the function returns False\n",
        "\n",
        "\n",
        "    # 2 is the only even prime number\n",
        "    if number == 2:  # This checks if the number is exactly 2\n",
        "        return True  # Since 2 is a prime number so function returns True\n",
        "\n",
        "\n",
        "    # All other even numbers are not prime\n",
        "    if number % 2 == 0:    # This checks if the number is divisible by 2\n",
        "        return False       # If the number is divisible by 2 it is not a prime number so the function returns False\n",
        "\n",
        "\n",
        "   # This for loop starts at 3 and iterates up to the square root of number checking only odd number\n",
        "    for i in range(3, int(number**0.5) + 1, 2):  #  'int(number**0.5) + 1' calculates the integer value of the square root of number plus 1.\n",
        "        if number % i == 0:   #  This checks if number is divisible by i\n",
        "            return False      # If number is divisible by any 'i' then it is not a prime number so the function returns False\n",
        "\n",
        "    # If no factors were found then the number is prime\n",
        "    return True   #  If the loop completes without finding any factors then number is prime so the function returns True"
      ],
      "metadata": {
        "id": "y0UcsJo2U3Cg"
      },
      "execution_count": null,
      "outputs": []
    },
    {
      "cell_type": "code",
      "source": [
        "num = int(input(\"Enter a number to check if it is prime: \"))  # This prompts the user to enter a number & converts the input to an integer and assigns it to the variable 'num'\n",
        "\n",
        "\n",
        "# Checks if the entered number is prime and print the result\n",
        "if prime(num):    # This calls the prime function with 'num' as the argument & if the function returns True then num is prime & the code inside the if block runs\n",
        "    print(f\"{num} is a prime number.\")      # If num is prime then this prints that num is a prime number\n",
        "\n",
        "\n",
        "else:     # If the prime function returns False then the code inside the else block runs\n",
        "    print(f\"{num} is not a prime number.\")    # If num is not prime then this prints that num is not a prime number"
      ],
      "metadata": {
        "id": "5KnF_ZL5WY6m"
      },
      "execution_count": null,
      "outputs": []
    },
    {
      "cell_type": "markdown",
      "source": [
        "# **Problem 2: Product of Random Numbers**"
      ],
      "metadata": {
        "id": "49DZ2FPkeaQ2"
      }
    },
    {
      "cell_type": "code",
      "source": [
        "import random  # Imports the 'random' module to use its functions for generating random numbers\n",
        "\n",
        "\n",
        "def generate_random_numbers():    # Defines a function named 'generate_random_numbers'\n",
        "\n",
        "  # Generate two random numbers between 1 and 10\n",
        "    num1 = random.randint(1, 10)  # Generates a random integer between 1 and 10 for 'num1'\n",
        "    num2 = random.randint(1, 10)  # Generates a random integer between 1 and 10 for 'num2'\n",
        "    return num1, num2             # Returns the two generated random numbers"
      ],
      "metadata": {
        "id": "-onIQ_uhen1H"
      },
      "execution_count": null,
      "outputs": []
    },
    {
      "cell_type": "code",
      "source": [
        "def get_user_answer(num1, num2):  # Defines a function named 'get_user_answer' that takes 'num1' and 'num2' as parameters\n",
        "\n",
        "  # Prompt the user to enter the product of 'num1' and 'num2'\n",
        "    user_answer = int(input(f\"What is the product of {num1} and {num2}? \"))  # Converts the input to an integer and assigns it to 'user_answer'\n",
        "    return user_answer    # Returns the user's answer"
      ],
      "metadata": {
        "id": "lwD-aSWtjmkl"
      },
      "execution_count": null,
      "outputs": []
    },
    {
      "cell_type": "code",
      "source": [
        "def check_answer(num1, num2, user_answer):    # Defines a function named 'check_answer' that takes 'num1' 'num2' and 'user_answer' as parameters\n",
        "\n",
        "  # Check if the user's answer is correct\n",
        "    correct_answer = num1 * num2  # Calculates the correct answer by multiplying 'num1' and 'num2'\n",
        "\n",
        "    if user_answer == correct_answer:  # Checks if the user's answer is equal to the correct answer\n",
        "        print(\"Correct!\")  # If the user's answer is correct it prints \"Correct!\"\n",
        "\n",
        "    else:   #  If the user's answer is not correct then executes the following line\n",
        "        print(f\"Incorrect. The correct answer is {correct_answer}.\")  # Prints \"Incorrect\" along with the correct answer"
      ],
      "metadata": {
        "id": "Bd1s0-h3jphJ"
      },
      "execution_count": null,
      "outputs": []
    },
    {
      "cell_type": "code",
      "source": [
        "def main():   # Defines the 'main' function\n",
        "\n",
        "    num1, num2 = generate_random_numbers()     # Calls the 'generate_random_numbers' function and assigns its return values to 'num'1 and 'num2'\n",
        "    user_answer = get_user_answer(num1, num2)  # Calls the 'get_user_answer' function with 'num1' and 'num2' as arguments and assigns the return value to 'user_answer'\n",
        "    check_answer(num1, num2, user_answer)      # Calls the 'check_answer' function with 'num1' 'num2' and 'user_answer' as arguments"
      ],
      "metadata": {
        "id": "gyQivKQ6jfsg"
      },
      "execution_count": null,
      "outputs": []
    },
    {
      "cell_type": "code",
      "source": [
        "if __name__ == \"__main__\":    # Checks if the script is being run directly\n",
        "    main()  # If the script is run directly calls the 'main' function"
      ],
      "metadata": {
        "id": "2z0K7trajsBq",
        "colab": {
          "base_uri": "https://localhost:8080/"
        },
        "outputId": "84801f9b-fe64-46c9-b5c3-73b43cb84101"
      },
      "execution_count": null,
      "outputs": [
        {
          "output_type": "stream",
          "name": "stdout",
          "text": [
            "What is the product of 6 and 2? 12\n",
            "Correct!\n"
          ]
        }
      ]
    },
    {
      "cell_type": "markdown",
      "source": [
        "# **Problem 3: Squares of Even/Odd Numbers**"
      ],
      "metadata": {
        "id": "icgQUvMIGbJb"
      }
    },
    {
      "cell_type": "code",
      "source": [
        "# Here we have defined the start and end of the range\n",
        "# Initializes 'start' and 'end' variables to define the range\n",
        "start = 100\n",
        "end = 200"
      ],
      "metadata": {
        "id": "J110qg-vIX0z"
      },
      "execution_count": null,
      "outputs": []
    },
    {
      "cell_type": "code",
      "source": [
        "# Here we have use 'for' loop to iterate through each number from 'start' to 'end'\n",
        "for number in range(start, end + 1):    # The range() function includes the 'start' value but excludes the 'end' value so 'end + 1' is used to include 200\n",
        "    if number % 2 != 0:                 # Uses the modulo operator '%' to determine if the number is odd. If 'number % 2' is not equal to 0 then the number is odd\n",
        "      square = number ** 2              # Uses the exponentiation operator '**' to calculate the square of the number\n",
        "      print(f\"The square of {number} is {square}\")    # Uses an f-string to format and print the number and its square"
      ],
      "metadata": {
        "colab": {
          "base_uri": "https://localhost:8080/"
        },
        "id": "F7vTWv_vI5do",
        "outputId": "08adde29-a84f-4036-c10e-c1b28704dd5f"
      },
      "execution_count": null,
      "outputs": [
        {
          "output_type": "stream",
          "name": "stdout",
          "text": [
            "The square of 101 is 10201\n",
            "The square of 103 is 10609\n",
            "The square of 105 is 11025\n",
            "The square of 107 is 11449\n",
            "The square of 109 is 11881\n",
            "The square of 111 is 12321\n",
            "The square of 113 is 12769\n",
            "The square of 115 is 13225\n",
            "The square of 117 is 13689\n",
            "The square of 119 is 14161\n",
            "The square of 121 is 14641\n",
            "The square of 123 is 15129\n",
            "The square of 125 is 15625\n",
            "The square of 127 is 16129\n",
            "The square of 129 is 16641\n",
            "The square of 131 is 17161\n",
            "The square of 133 is 17689\n",
            "The square of 135 is 18225\n",
            "The square of 137 is 18769\n",
            "The square of 139 is 19321\n",
            "The square of 141 is 19881\n",
            "The square of 143 is 20449\n",
            "The square of 145 is 21025\n",
            "The square of 147 is 21609\n",
            "The square of 149 is 22201\n",
            "The square of 151 is 22801\n",
            "The square of 153 is 23409\n",
            "The square of 155 is 24025\n",
            "The square of 157 is 24649\n",
            "The square of 159 is 25281\n",
            "The square of 161 is 25921\n",
            "The square of 163 is 26569\n",
            "The square of 165 is 27225\n",
            "The square of 167 is 27889\n",
            "The square of 169 is 28561\n",
            "The square of 171 is 29241\n",
            "The square of 173 is 29929\n",
            "The square of 175 is 30625\n",
            "The square of 177 is 31329\n",
            "The square of 179 is 32041\n",
            "The square of 181 is 32761\n",
            "The square of 183 is 33489\n",
            "The square of 185 is 34225\n",
            "The square of 187 is 34969\n",
            "The square of 189 is 35721\n",
            "The square of 191 is 36481\n",
            "The square of 193 is 37249\n",
            "The square of 195 is 38025\n",
            "The square of 197 is 38809\n",
            "The square of 199 is 39601\n"
          ]
        }
      ]
    },
    {
      "cell_type": "markdown",
      "source": [
        "# **Program 4: Word counter**"
      ],
      "metadata": {
        "id": "gGPjX5fSMjVJ"
      }
    },
    {
      "cell_type": "code",
      "source": [
        "def word_count(input_text):      # Here we have defined a function named 'word_count' that takes one parameter 'input_text'\n",
        "\n",
        "\n",
        "    # Split the text into words\n",
        "    words = input_text.split()   # This line splits the input text into individual words using the 'split()' method\n",
        "\n",
        "\n",
        "    # Here we have created a dictionary to store the word counts\n",
        "    word_counts = {}         # Here we have created a dictionary to store the word counts\n",
        "\n",
        "\n",
        "    # It count the occurrences of each word\n",
        "    for word in words:      # This lines starts a for 'loop' that iterates over each word in the 'words' list\n",
        "\n",
        "\n",
        "        if word in word_counts:        # This lines checks if the word is already a key in the 'word_counts' dictionary\n",
        "            word_counts[word] += 1     # If it is increments the count of that word by 1\n",
        "        else:\n",
        "            word_counts[word] = 1      # If it isn't then adds the word to the dictionary with a count of 1\n",
        "\n",
        "\n",
        "    # Print the word counts\n",
        "    for word, count in word_counts.items():   # It starts another 'for' loop to iterate over each key-value pair in the 'word_counts' dictionary\n",
        "        print(f\"'{word}': {count}\")         # This prints each word and its count in the specified format\n",
        "\n",
        "\n",
        "# Here we have defined a variable 'input_text' with a string\n",
        "input_text = \"Hello! How you doing. Is everything alright?\"\n",
        "word_count(input_text)      # This command calls the 'word_count' function with input_text as the argument\n"
      ],
      "metadata": {
        "colab": {
          "base_uri": "https://localhost:8080/"
        },
        "id": "FHr3QsptMjrb",
        "outputId": "a40dc8ee-9d02-4bc1-f4fd-6fa3def17144"
      },
      "execution_count": null,
      "outputs": [
        {
          "output_type": "stream",
          "name": "stdout",
          "text": [
            "'Hello!': 1\n",
            "'How': 1\n",
            "'you': 1\n",
            "'doing.': 1\n",
            "'Is': 1\n",
            "'everything': 1\n",
            "'alright?': 1\n"
          ]
        }
      ]
    },
    {
      "cell_type": "markdown",
      "source": [
        "# **Program 5: Check for Palindrome**"
      ],
      "metadata": {
        "id": "wUustXiASv1t"
      }
    },
    {
      "cell_type": "code",
      "source": [
        "# Regular expressions are used for searching and manipulating strings based on patterns.\n",
        "\n",
        "import re     # Here we have imported 're' module which provides support for regular expressions in Python\n",
        "\n",
        "def is_palindrome(s):   # Here we have defined a function named 'is_palindrome' that takes a single argument 's'\n",
        "\n",
        "\n",
        "    # This command uses 'sub' function from 're' module to remove all characters from the string 's' that are not letters (A to Z , a to z) or digits (0 to 9)\n",
        "    cleaned_str = re.sub(r'[^A-Za-z0-9]', '', s).lower()      #  This pattern-  r'[^A-Za-z0-9]' is a regular expression\n",
        "                                                              #  [^...] indicates a negation where it matches any character that is not inside the brackets\n",
        "                                                              #   A-Za-z0-9   matches any uppercase letter (A-Z), lowercase letter (a-z) or digit (0-9)\n",
        "                                                              #   ''   indicates that these unwanted characters are replaced with nothing i.e they are removed\n",
        "                                                              #  .lower()     This method converts all remaining characters to lowercase to ensure the comparison is case-insensitive\n",
        "                                                              #  cleaned_str   This variable stores the resulting cleaned and lowercased string\n",
        "\n",
        "    # Check if the cleaned string is equal to its reverse\n",
        "    return cleaned_str == cleaned_str[::-1]               #   cleaned_str[::-1]  This expression uses slicing to reverse the string\n",
        "                                                          #       [::-1]        means it take the string and slice it from start to end but step backwards\n",
        "                                                          #    cleaned_str == cleaned_str[::-1]    This comparison checks if the cleaned string is equal to its reversed version\n",
        "                                                          #     return    If the cleaned string is equal to its reverse the function returns True indicating that the original string is a palindrome\n",
        "                                                          #               If they are not equal the function returns False indicating that the original string is not a palindrome"
      ],
      "metadata": {
        "id": "TGWsgq39NmNs"
      },
      "execution_count": null,
      "outputs": []
    },
    {
      "cell_type": "markdown",
      "source": [
        "Examples"
      ],
      "metadata": {
        "id": "NydkfMHPaDim"
      }
    },
    {
      "cell_type": "code",
      "source": [
        "print(is_palindrome(\"afifa\"))             # Here the string \"afifa\" is the same forward and backward so the function returns 'True'"
      ],
      "metadata": {
        "colab": {
          "base_uri": "https://localhost:8080/"
        },
        "id": "TpD4Xk37aRly",
        "outputId": "b60c2cdb-5a83-4af9-ec52-3078b562c68a"
      },
      "execution_count": null,
      "outputs": [
        {
          "output_type": "stream",
          "name": "stdout",
          "text": [
            "True\n"
          ]
        }
      ]
    },
    {
      "cell_type": "code",
      "source": [
        "print(is_palindrome(\"No 'x' in Nixon\"))   # Here the clean and lowercased string becomes \"noxinnixon\" which is equal to its reverse so the function returns 'True'"
      ],
      "metadata": {
        "colab": {
          "base_uri": "https://localhost:8080/"
        },
        "id": "qTRF9s_cScrc",
        "outputId": "8dd43603-1dc0-462f-bcd0-f602c3efdb48"
      },
      "execution_count": null,
      "outputs": [
        {
          "output_type": "stream",
          "name": "stdout",
          "text": [
            "True\n"
          ]
        }
      ]
    },
    {
      "cell_type": "code",
      "source": [
        "print(is_palindrome(\"hello world\"))       # Here the string \"hello world\" is not the same forward and backward so the function returns 'False'\n"
      ],
      "metadata": {
        "colab": {
          "base_uri": "https://localhost:8080/"
        },
        "id": "tjL2gDw9Srww",
        "outputId": "ae5369e3-98c0-4c0b-ee4f-131eba12b191"
      },
      "execution_count": null,
      "outputs": [
        {
          "output_type": "stream",
          "name": "stdout",
          "text": [
            "False\n"
          ]
        }
      ]
    }
  ]
}